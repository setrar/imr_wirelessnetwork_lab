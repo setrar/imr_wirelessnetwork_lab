{
 "cells": [
  {
   "cell_type": "markdown",
   "id": "bbc4ae52-f8ff-41e9-b862-cfd2bfd02b2d",
   "metadata": {},
   "source": [
    "# Wireless Project"
   ]
  },
  {
   "cell_type": "markdown",
   "id": "d3c57bba-b627-44fe-b18b-0436836b7d83",
   "metadata": {},
   "source": [
    "Practical Lab:\n",
    "\n",
    ">       Robin Gerzaguet\n",
    "> \n",
    ">   ENSSAT - Université de Rennes 1\n",
    "> \n",
    ">   robin.gerzaguet@enssat.fr\n",
    "> \n",
    ">   6 Rue de Kerampont - CS 80518 22305 LANNION - France"
   ]
  },
  {
   "cell_type": "markdown",
   "id": "2d08f52b-0361-41a2-bed6-17e2953fd87a",
   "metadata": {},
   "source": [
    "## Chapter 2 \n",
    "\n",
    "***Wireless Lab***"
   ]
  },
  {
   "cell_type": "markdown",
   "id": "4f0ac7c2-309e-438d-a5db-a8b6163f0c6a",
   "metadata": {},
   "source": [
    "The project will be done under Julia. Most of the functions will have to be coded and some functions will be provided. The transmitter and receiver description are described in the previous chapter. When necessary, the reader should have an deep look to the appropriate parts.\n",
    "\n",
    "We emulate in this section a small network where the base station provided a broadband service to several users. Each group of student is associated to a device (i.e a mobile terminal) and has a unique identifier. This identifier will be used to extract the dedicated payload content from the multiplexed stream. The ultimate purpose is to decode the sent text and discover the secret key that has been hide for each user in the frame. In the proposed lab, we will focus on the L2 part: we will suppose that we will have a time frequency grid from the low layer (L1) and that this matrix has been obtained from an over the air transmission. The purpose is to recover the payload associated to your group identifier and discover the secret key hidden in the payload content.\n",
    "    \n",
    "To do so, we will have to decode all the channels that are multiplexed in the received LTE frame. Each channel has a specific information that will be used to sequentially obtained all the necessary flags and parameters for the final payload decoding.We will first have to built the necessary functions to recover all the parameters, and then apply the successive decoding functions."
   ]
  },
  {
   "cell_type": "markdown",
   "id": "2012e77e-2f43-4575-b282-0cb53ac07232",
   "metadata": {},
   "source": [
    "$\\framebox $\n",
    "\n",
    "The LTE channels are not static, their size and their parameters evolve by time (associated to network load and link quality). So your code should be !\n",
    "- Clean your code and use functions when needed\n",
    "- Always use variables and parameters: nothing should be hard-coded\n",
    "- Use structures or classes to have a clean nested code, especially for function calls."
   ]
  },
  {
   "cell_type": "code",
   "execution_count": 3,
   "id": "c0d60d7d-b587-4968-aa16-732084d99e67",
   "metadata": {},
   "outputs": [],
   "source": [
    "include(\"data/julia/tfMatrix.jl\");"
   ]
  },
  {
   "cell_type": "code",
   "execution_count": 15,
   "id": "4ed9f885-b16f-43ae-99a1-d0fc44035623",
   "metadata": {},
   "outputs": [],
   "source": [
    "tf = vec(tfMatrix);"
   ]
  },
  {
   "cell_type": "code",
   "execution_count": 16,
   "id": "e2dbb8ce-5be0-45cf-a2f0-7e85ec0c1f45",
   "metadata": {},
   "outputs": [],
   "source": [
    "using Plots"
   ]
  },
  {
   "cell_type": "code",
   "execution_count": 21,
   "id": "e98a04c6-c8be-4c5a-b490-eddc3048f22f",
   "metadata": {},
   "outputs": [
    {
     "name": "stdout",
     "output_type": "stream",
     "text": [
      "length(tf) = 14336\n"
     ]
    },
    {
     "data": {
      "text/plain": [
       "14336"
      ]
     },
     "execution_count": 21,
     "metadata": {},
     "output_type": "execute_result"
    }
   ],
   "source": [
    "tf[1:10]; @show length(tf)"
   ]
  },
  {
   "cell_type": "code",
   "execution_count": null,
   "id": "b6f8f56d-475e-46c9-9707-184fb0f2f4e4",
   "metadata": {},
   "outputs": [],
   "source": []
  }
 ],
 "metadata": {
  "kernelspec": {
   "display_name": "Julia 1.9.3",
   "language": "julia",
   "name": "julia-1.9"
  },
  "language_info": {
   "file_extension": ".jl",
   "mimetype": "application/julia",
   "name": "julia",
   "version": "1.10.3"
  }
 },
 "nbformat": 4,
 "nbformat_minor": 5
}
